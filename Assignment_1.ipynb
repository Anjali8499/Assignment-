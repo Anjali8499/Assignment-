{
  "nbformat": 4,
  "nbformat_minor": 0,
  "metadata": {
    "colab": {
      "name": "Assignment 1.ipynb",
      "provenance": [],
      "authorship_tag": "ABX9TyPb/y0xqA2UdR3wj1M4IhpG",
      "include_colab_link": true
    },
    "kernelspec": {
      "name": "python3",
      "display_name": "Python 3"
    },
    "language_info": {
      "name": "python"
    }
  },
  "cells": [
    {
      "cell_type": "markdown",
      "metadata": {
        "id": "view-in-github",
        "colab_type": "text"
      },
      "source": [
        "<a href=\"https://colab.research.google.com/github/Anjali8499/Assignment-/blob/main/Assignment_1.ipynb\" target=\"_parent\"><img src=\"https://colab.research.google.com/assets/colab-badge.svg\" alt=\"Open In Colab\"/></a>"
      ]
    },
    {
      "cell_type": "code",
      "metadata": {
        "id": "bPYE1FikIT_d"
      },
      "source": [
        "# 1. Write a program to read 3 float numbers and print the largest value\n"
      ],
      "execution_count": 2,
      "outputs": []
    },
    {
      "cell_type": "code",
      "metadata": {
        "colab": {
          "base_uri": "https://localhost:8080/"
        },
        "id": "-53v_AitIxuK",
        "outputId": "e9c1eaf1-e6da-40a0-b034-86be69895df1"
      },
      "source": [
        "num1 = input(\"Enter a number: \")\n",
        "num2 = input(\"Enter a number: \")\n",
        "num3 = input(\"Enter a number: \")\n",
        "num1=int(num1)\n",
        "num2=int(num2)\n",
        "num3=int(num3)\n",
        "\n",
        "\n",
        "if num1>num2 & num1>num3:\n",
        "    print(\"Number {} is greatest\".format(num1))\n",
        "elif num2>num1 & num2>num3 :\n",
        "    print(\"Number {} is greatest\".format(num2))\n",
        "else :\n",
        "  print(\"Number {} is greatest\".format(num3))\n",
        "  \n",
        "\n"
      ],
      "execution_count": 6,
      "outputs": [
        {
          "output_type": "stream",
          "name": "stdout",
          "text": [
            "Enter a number: 9\n",
            "Enter a number: 12\n",
            "Enter a number: 8\n",
            "Number 12 is greatest\n"
          ]
        }
      ]
    }
  ]
}