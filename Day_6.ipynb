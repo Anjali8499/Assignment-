{
  "nbformat": 4,
  "nbformat_minor": 0,
  "metadata": {
    "colab": {
      "name": "Day 6.ipynb",
      "provenance": [],
      "authorship_tag": "ABX9TyNSxeWGV+9MglZ+tv8NkgKF",
      "include_colab_link": true
    },
    "kernelspec": {
      "name": "python3",
      "display_name": "Python 3"
    },
    "language_info": {
      "name": "python"
    }
  },
  "cells": [
    {
      "cell_type": "markdown",
      "metadata": {
        "id": "view-in-github",
        "colab_type": "text"
      },
      "source": [
        "<a href=\"https://colab.research.google.com/github/Anjali8499/Assignment-/blob/main/Day_6.ipynb\" target=\"_parent\"><img src=\"https://colab.research.google.com/assets/colab-badge.svg\" alt=\"Open In Colab\"/></a>"
      ]
    },
    {
      "cell_type": "code",
      "metadata": {
        "colab": {
          "base_uri": "https://localhost:8080/",
          "height": 132
        },
        "id": "EX7x2OmjerNk",
        "outputId": "6402f9f7-78fc-4fbf-d46e-a53bd3fda958"
      },
      "source": [
        " \n",
        "if Temperature>=0:\n",
        "    def KelvinToFahrenheit(Temperature):\n",
        "       assert(Temperature >= 0),\"Colder than absolute zero!\"\n",
        "       return((Temperature-273)*1.8)+32\n",
        "    print(KelvinToFahrenheit(273))\n",
        "    print(int(KelvinToFahrenheit(505.78)))\n",
        "    print(KelvinToFahrenheit(-5)) \n",
        "else:\n",
        "     try:\n",
        "         return int(Temperature)\n",
        "     except AssertionError as Argument:\n",
        "            print(\"The argument does not positive value\\n\", Argument)\n"
      ],
      "execution_count": 1,
      "outputs": [
        {
          "output_type": "error",
          "ename": "IndentationError",
          "evalue": "ignored",
          "traceback": [
            "\u001b[0;36m  File \u001b[0;32m\"<ipython-input-1-631264281f24>\"\u001b[0;36m, line \u001b[0;32m6\u001b[0m\n\u001b[0;31m    print(KelvinToFahrenheit(273))\u001b[0m\n\u001b[0m                                  ^\u001b[0m\n\u001b[0;31mIndentationError\u001b[0m\u001b[0;31m:\u001b[0m unindent does not match any outer indentation level\n"
          ]
        }
      ]
    },
    {
      "cell_type": "code",
      "metadata": {
        "id": "9emuwDcHiKvC"
      },
      "source": [
        ""
      ],
      "execution_count": null,
      "outputs": []
    }
  ]
}