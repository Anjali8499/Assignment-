{
  "nbformat": 4,
  "nbformat_minor": 0,
  "metadata": {
    "colab": {
      "name": "Assignment 2 PGP.ipynb",
      "provenance": [],
      "authorship_tag": "ABX9TyMWYgMVdw/xNrVw7TenpPcF",
      "include_colab_link": true
    },
    "kernelspec": {
      "name": "python3",
      "display_name": "Python 3"
    },
    "language_info": {
      "name": "python"
    }
  },
  "cells": [
    {
      "cell_type": "markdown",
      "metadata": {
        "id": "view-in-github",
        "colab_type": "text"
      },
      "source": [
        "<a href=\"https://colab.research.google.com/github/Anjali8499/Assignment-/blob/main/Assignment_2_PGP.ipynb\" target=\"_parent\"><img src=\"https://colab.research.google.com/assets/colab-badge.svg\" alt=\"Open In Colab\"/></a>"
      ]
    },
    {
      "cell_type": "code",
      "metadata": {
        "id": "iuxA6JnXebjU"
      },
      "source": [
        "## create 2 function to add (add_num())and multiply 2 numbers\n",
        "\n",
        "## marks=[70,80,77,86,99]\n",
        "###write a function to cal the average marks.\n",
        "###write a function to cal the grade of the students based on avg marks (if,elif,else)"
      ],
      "execution_count": 1,
      "outputs": []
    },
    {
      "cell_type": "code",
      "metadata": {
        "id": "2ZguZpMQfAmm"
      },
      "source": [
        "def add_num(num1,num2):\n",
        "  print(\"Sum is: \",num1+num2)\n"
      ],
      "execution_count": 3,
      "outputs": []
    },
    {
      "cell_type": "code",
      "metadata": {
        "colab": {
          "base_uri": "https://localhost:8080/"
        },
        "id": "yiTEckxRfdhJ",
        "outputId": "e5df6d04-3015-436b-cec8-c723cf237b2a"
      },
      "source": [
        "add_num(9,7)"
      ],
      "execution_count": 4,
      "outputs": [
        {
          "output_type": "stream",
          "name": "stdout",
          "text": [
            "Sum is:  16\n"
          ]
        }
      ]
    },
    {
      "cell_type": "code",
      "metadata": {
        "id": "CQInb6nrfmBR"
      },
      "source": [
        "def multiply_num(num1,num2):\n",
        "  print(\"Sum is: \",num1*num2)"
      ],
      "execution_count": 5,
      "outputs": []
    },
    {
      "cell_type": "code",
      "metadata": {
        "colab": {
          "base_uri": "https://localhost:8080/"
        },
        "id": "07GaLY_Qfs0D",
        "outputId": "7f648237-ed75-4dd5-c7bc-0e908710e48f"
      },
      "source": [
        "multiply_num(11,9)"
      ],
      "execution_count": 6,
      "outputs": [
        {
          "output_type": "stream",
          "name": "stdout",
          "text": [
            "Sum is:  99\n"
          ]
        }
      ]
    },
    {
      "cell_type": "code",
      "metadata": {
        "id": "vN19jTGbfywj"
      },
      "source": [
        "marks=[70,80,77,86,99]\n",
        "def avg(marks):\n",
        "  avg_marks=0\n",
        "  count=0\n",
        "  for i in marks:\n",
        "    avg_marks=avg_marks+i\n",
        "    count=count+1\n",
        "  \n",
        "  avg_marks=avg_marks/count\n",
        "\n",
        "  print(\"Average marks are: \",avg_marks)  \n",
        "  "
      ],
      "execution_count": 16,
      "outputs": []
    },
    {
      "cell_type": "code",
      "metadata": {
        "colab": {
          "base_uri": "https://localhost:8080/"
        },
        "id": "aRndmXkify7_",
        "outputId": "b5ed5ddf-0cd0-4080-b16e-4a4c749d67c7"
      },
      "source": [
        "avg(marks)"
      ],
      "execution_count": 17,
      "outputs": [
        {
          "output_type": "stream",
          "name": "stdout",
          "text": [
            "Average marks are:  82.4\n"
          ]
        }
      ]
    },
    {
      "cell_type": "code",
      "metadata": {
        "id": "pTNm9bmhfzHR"
      },
      "source": [
        "def grade():\n",
        "  marks=[70,80,77,86,99]\n",
        "  avg_marks=0\n",
        "  count=0\n",
        "  for i in marks:\n",
        "    avg_marks=avg_marks+i\n",
        "    count=count+1\n",
        "  \n",
        "  avg_marks=avg_marks/count\n",
        "\n",
        "  print(\"Average marks are: \",avg_marks)  \n",
        "  if avg_marks>80:\n",
        "    print(\"Grade 1\")\n",
        "\n",
        "  elif avg_marks>70:\n",
        "    print(\"Grade 2\")\n",
        "  \n",
        "  else:\n",
        "    print(\"Grade 3\")\n"
      ],
      "execution_count": 21,
      "outputs": []
    },
    {
      "cell_type": "code",
      "metadata": {
        "colab": {
          "base_uri": "https://localhost:8080/"
        },
        "id": "3kz20Q4niahv",
        "outputId": "a9837a75-65d5-409c-822f-33e707c7ebb9"
      },
      "source": [
        "grade()"
      ],
      "execution_count": 22,
      "outputs": [
        {
          "output_type": "stream",
          "name": "stdout",
          "text": [
            "Average marks are:  82.4\n",
            "Grade 1\n"
          ]
        }
      ]
    }
  ]
}