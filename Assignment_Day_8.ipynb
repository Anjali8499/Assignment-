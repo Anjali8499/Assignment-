{
  "nbformat": 4,
  "nbformat_minor": 0,
  "metadata": {
    "colab": {
      "name": "Assignment Day 8.ipynb",
      "provenance": [],
      "authorship_tag": "ABX9TyPl161aI9+J424Cw0jnyVWL",
      "include_colab_link": true
    },
    "kernelspec": {
      "name": "python3",
      "display_name": "Python 3"
    },
    "language_info": {
      "name": "python"
    }
  },
  "cells": [
    {
      "cell_type": "markdown",
      "metadata": {
        "id": "view-in-github",
        "colab_type": "text"
      },
      "source": [
        "<a href=\"https://colab.research.google.com/github/Anjali8499/Assignment-/blob/main/Assignment_Day_8.ipynb\" target=\"_parent\"><img src=\"https://colab.research.google.com/assets/colab-badge.svg\" alt=\"Open In Colab\"/></a>"
      ]
    },
    {
      "cell_type": "code",
      "metadata": {
        "id": "pk9M1ncl53Ma"
      },
      "source": [
        "## Create a generator to find out the sum of squares of numbers in fibonacci seq"
      ],
      "execution_count": 1,
      "outputs": []
    },
    {
      "cell_type": "code",
      "metadata": {
        "id": "l6V9dBsZ6ILA"
      },
      "source": [
        "def fib(n):\n",
        "    x,y=0,1\n",
        "    while True:\n",
        "        yield x\n",
        "        x,y = y,x+y\n",
        "        gen=(sum(i**2) for i in fib(n))\n",
        "        print(gen)\n",
        "     "
      ],
      "execution_count": 2,
      "outputs": []
    },
    {
      "cell_type": "code",
      "metadata": {
        "colab": {
          "base_uri": "https://localhost:8080/"
        },
        "id": "QviSjfOD_2Mb",
        "outputId": "6b7e13c1-b940-4f9b-e971-c316176dc50c"
      },
      "source": [
        "fib(12)"
      ],
      "execution_count": 3,
      "outputs": [
        {
          "output_type": "execute_result",
          "data": {
            "text/plain": [
              "<generator object fib at 0x7f7e0883d450>"
            ]
          },
          "metadata": {},
          "execution_count": 3
        }
      ]
    }
  ]
}